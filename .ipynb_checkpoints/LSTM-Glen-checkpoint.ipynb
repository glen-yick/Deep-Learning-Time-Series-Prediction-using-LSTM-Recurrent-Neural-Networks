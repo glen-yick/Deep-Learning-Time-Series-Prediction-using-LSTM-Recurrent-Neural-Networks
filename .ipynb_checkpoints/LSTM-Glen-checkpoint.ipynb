{
 "cells": [
  {
   "cell_type": "code",
   "execution_count": 1,
   "metadata": {},
   "outputs": [
    {
     "name": "stderr",
     "output_type": "stream",
     "text": [
      "Using TensorFlow backend.\n",
      "C:\\Users\\gleny\\anaconda3\\lib\\site-packages\\tensorflow\\python\\framework\\dtypes.py:516: FutureWarning: Passing (type, 1) or '1type' as a synonym of type is deprecated; in a future version of numpy, it will be understood as (type, (1,)) / '(1,)type'.\n",
      "  _np_qint8 = np.dtype([(\"qint8\", np.int8, 1)])\n",
      "C:\\Users\\gleny\\anaconda3\\lib\\site-packages\\tensorflow\\python\\framework\\dtypes.py:517: FutureWarning: Passing (type, 1) or '1type' as a synonym of type is deprecated; in a future version of numpy, it will be understood as (type, (1,)) / '(1,)type'.\n",
      "  _np_quint8 = np.dtype([(\"quint8\", np.uint8, 1)])\n",
      "C:\\Users\\gleny\\anaconda3\\lib\\site-packages\\tensorflow\\python\\framework\\dtypes.py:518: FutureWarning: Passing (type, 1) or '1type' as a synonym of type is deprecated; in a future version of numpy, it will be understood as (type, (1,)) / '(1,)type'.\n",
      "  _np_qint16 = np.dtype([(\"qint16\", np.int16, 1)])\n",
      "C:\\Users\\gleny\\anaconda3\\lib\\site-packages\\tensorflow\\python\\framework\\dtypes.py:519: FutureWarning: Passing (type, 1) or '1type' as a synonym of type is deprecated; in a future version of numpy, it will be understood as (type, (1,)) / '(1,)type'.\n",
      "  _np_quint16 = np.dtype([(\"quint16\", np.uint16, 1)])\n",
      "C:\\Users\\gleny\\anaconda3\\lib\\site-packages\\tensorflow\\python\\framework\\dtypes.py:520: FutureWarning: Passing (type, 1) or '1type' as a synonym of type is deprecated; in a future version of numpy, it will be understood as (type, (1,)) / '(1,)type'.\n",
      "  _np_qint32 = np.dtype([(\"qint32\", np.int32, 1)])\n",
      "C:\\Users\\gleny\\anaconda3\\lib\\site-packages\\tensorflow\\python\\framework\\dtypes.py:525: FutureWarning: Passing (type, 1) or '1type' as a synonym of type is deprecated; in a future version of numpy, it will be understood as (type, (1,)) / '(1,)type'.\n",
      "  np_resource = np.dtype([(\"resource\", np.ubyte, 1)])\n",
      "C:\\Users\\gleny\\anaconda3\\lib\\site-packages\\tensorboard\\compat\\tensorflow_stub\\dtypes.py:541: FutureWarning: Passing (type, 1) or '1type' as a synonym of type is deprecated; in a future version of numpy, it will be understood as (type, (1,)) / '(1,)type'.\n",
      "  _np_qint8 = np.dtype([(\"qint8\", np.int8, 1)])\n",
      "C:\\Users\\gleny\\anaconda3\\lib\\site-packages\\tensorboard\\compat\\tensorflow_stub\\dtypes.py:542: FutureWarning: Passing (type, 1) or '1type' as a synonym of type is deprecated; in a future version of numpy, it will be understood as (type, (1,)) / '(1,)type'.\n",
      "  _np_quint8 = np.dtype([(\"quint8\", np.uint8, 1)])\n",
      "C:\\Users\\gleny\\anaconda3\\lib\\site-packages\\tensorboard\\compat\\tensorflow_stub\\dtypes.py:543: FutureWarning: Passing (type, 1) or '1type' as a synonym of type is deprecated; in a future version of numpy, it will be understood as (type, (1,)) / '(1,)type'.\n",
      "  _np_qint16 = np.dtype([(\"qint16\", np.int16, 1)])\n",
      "C:\\Users\\gleny\\anaconda3\\lib\\site-packages\\tensorboard\\compat\\tensorflow_stub\\dtypes.py:544: FutureWarning: Passing (type, 1) or '1type' as a synonym of type is deprecated; in a future version of numpy, it will be understood as (type, (1,)) / '(1,)type'.\n",
      "  _np_quint16 = np.dtype([(\"quint16\", np.uint16, 1)])\n",
      "C:\\Users\\gleny\\anaconda3\\lib\\site-packages\\tensorboard\\compat\\tensorflow_stub\\dtypes.py:545: FutureWarning: Passing (type, 1) or '1type' as a synonym of type is deprecated; in a future version of numpy, it will be understood as (type, (1,)) / '(1,)type'.\n",
      "  _np_qint32 = np.dtype([(\"qint32\", np.int32, 1)])\n",
      "C:\\Users\\gleny\\anaconda3\\lib\\site-packages\\tensorboard\\compat\\tensorflow_stub\\dtypes.py:550: FutureWarning: Passing (type, 1) or '1type' as a synonym of type is deprecated; in a future version of numpy, it will be understood as (type, (1,)) / '(1,)type'.\n",
      "  np_resource = np.dtype([(\"resource\", np.ubyte, 1)])\n"
     ]
    }
   ],
   "source": [
    "import matplotlib.pyplot as plt\n",
    "import numpy as np\n",
    "import time\n",
    "from keras.layers.core import Dense, Activation, Dropout\n",
    "from keras.layers.recurrent import LSTM\n",
    "from keras.models import Sequential\n",
    "from statsmodels.tsa.arima_model import ARIMA\n",
    "from statsmodels.tsa.arima_model import ARMAResults \n",
    "from sklearn.metrics import mean_squared_error\n",
    "import pandas as pd\n",
    "import warnings\n",
    "import itertools\n",
    "from sklearn.model_selection import TimeSeriesSplit\n",
    "import statsmodels\n",
    "import statsmodels.api as sm\n",
    "import itertools\n",
    "from sklearn.preprocessing import MinMaxScaler"
   ]
  },
  {
   "cell_type": "code",
   "execution_count": 2,
   "metadata": {},
   "outputs": [],
   "source": [
    "# convert series to supervised learning\n",
    "def series_to_supervised(data, n_in=1, n_out=1, dropnan=True):\n",
    "    n_vars = 1 if type(data) is list else data.shape[1]\n",
    "    df = pd.DataFrame(data)\n",
    "    cols, names = list(), list()\n",
    "    # input sequence (t-n, ... t-1)\n",
    "    for i in range(n_in, 0, -1):\n",
    "        cols.append(df.shift(i))\n",
    "        names += [('var%d(t-%d)' % (j + 1, i)) for j in range(n_vars)]\n",
    "    # forecast sequence (t, t+1, ... t+n)\n",
    "    for i in range(0, n_out):\n",
    "        cols.append(df.shift(-i))\n",
    "        if i == 0:\n",
    "            names += [('var%d(t)' % (j + 1)) for j in range(n_vars)]\n",
    "        else:\n",
    "            names += [('var%d(t+%d)' % (j + 1, i)) for j in range(n_vars)]\n",
    "    # put it all together\n",
    "    agg = pd.concat(cols, axis=1)\n",
    "    agg.columns = names\n",
    "    # drop rows with NaN values\n",
    "    if dropnan:\n",
    "        agg.dropna(inplace=True)\n",
    "    return agg"
   ]
  },
  {
   "cell_type": "code",
   "execution_count": 3,
   "metadata": {},
   "outputs": [
    {
     "name": "stdout",
     "output_type": "stream",
     "text": [
      "reframe\n",
      "(1727, 20, 49) (1727,) (192, 20, 49) (192,)\n"
     ]
    }
   ],
   "source": [
    "# load dataset\n",
    "dataset = pd.read_csv('convertcsv.csv', header=0, index_col=0)\n",
    "dataset = dataset.drop(['Date', 'Date.1', 'Date.2'], axis=1)\n",
    "values = dataset.values\n",
    "# integer encode direction\n",
    "# encoder = LabelEncoder()\n",
    "# values[:, 4] = encoder.fit_transform(values[:, 4])\n",
    "# ensure all data is float\n",
    "values = values.astype('float32')\n",
    "# normalize features\n",
    "scaler = MinMaxScaler(feature_range=(0, 1))\n",
    "scaled = scaler.fit_transform(values)\n",
    "# frame as supervised learning\n",
    "days = 20\n",
    "features = 49\n",
    "reframed = series_to_supervised(scaled, days, 1)\n",
    "reframe_f_arima = series_to_supervised(scaled, days, 1)\n",
    "# drop columns we don't want to predict\n",
    "# reframed.drop(reframed.columns.to_series()[51:100], axis=1, inplace=True)\n",
    "print(\"reframe\")\n",
    "#print(reframed)\n",
    "np.random.shuffle(reframed.values)\n",
    "# split into train and test sets\n",
    "values = reframed.values\n",
    "n_train_hours = 1727  # 0.9*1938 (1919????)\n",
    "train = values[:n_train_hours, :]\n",
    "test = values[n_train_hours:, :]\n",
    "# split into input and outputs\n",
    "obs = days * features\n",
    "train_X, train_y = train[:, :obs], train[:, -features]\n",
    "test_X, test_y = test[:, :obs], test[:, -features]\n",
    "# reshape input to be 3D [samples, timesteps, features]\n",
    "train_X = train_X.reshape((train_X.shape[0], days, features))\n",
    "test_X = test_X.reshape((test_X.shape[0], days, features))\n",
    "print(train_X.shape, train_y.shape, test_X.shape, test_y.shape)\n"
   ]
  },
  {
   "cell_type": "code",
   "execution_count": 4,
   "metadata": {},
   "outputs": [
    {
     "name": "stdout",
     "output_type": "stream",
     "text": [
      "(1727, 20, 49) (1727,) (192, 20, 49) (192,)\n"
     ]
    }
   ],
   "source": [
    "values_f_arima = reframe_f_arima.values\n",
    "train_f_arima = values_f_arima[:n_train_hours, :]\n",
    "test_f_arima = values_f_arima[n_train_hours:, :]\n",
    "\n",
    "train_X_f_arima, train_y_f_arima = train_f_arima[:, :obs], train_f_arima[:, -features]\n",
    "test_X_f_arima, test_y_f_arima = test_f_arima[:, :obs], test_f_arima[:, -features]\n",
    "# reshape input to be 3D [samples, timesteps, features]\n",
    "train_X_f_arima = train_X_f_arima.reshape((train_X_f_arima.shape[0], days, features))\n",
    "test_X_f_arima = test_X_f_arima.reshape((test_X_f_arima.shape[0], days, features))\n",
    "print(train_X_f_arima.shape, train_y_f_arima.shape, test_X_f_arima.shape, test_y_f_arima.shape)"
   ]
  },
  {
   "cell_type": "code",
   "execution_count": 5,
   "metadata": {
    "scrolled": true
   },
   "outputs": [
    {
     "data": {
      "text/plain": [
       "array([0.07138001, 0.04799456, 0.06594152, ..., 0.07369136, 0.12358937,\n",
       "       0.09707683], dtype=float32)"
      ]
     },
     "execution_count": 5,
     "metadata": {},
     "output_type": "execute_result"
    }
   ],
   "source": [
    "train_y_f_arima"
   ]
  },
  {
   "cell_type": "code",
   "execution_count": 35,
   "metadata": {},
   "outputs": [
    {
     "data": {
      "text/html": [
       "<div>\n",
       "<style scoped>\n",
       "    .dataframe tbody tr th:only-of-type {\n",
       "        vertical-align: middle;\n",
       "    }\n",
       "\n",
       "    .dataframe tbody tr th {\n",
       "        vertical-align: top;\n",
       "    }\n",
       "\n",
       "    .dataframe thead th {\n",
       "        text-align: right;\n",
       "    }\n",
       "</style>\n",
       "<table border=\"1\" class=\"dataframe\">\n",
       "  <thead>\n",
       "    <tr style=\"text-align: right;\">\n",
       "      <th></th>\n",
       "      <th>var1(t-20)</th>\n",
       "      <th>var2(t-20)</th>\n",
       "      <th>var3(t-20)</th>\n",
       "      <th>var4(t-20)</th>\n",
       "      <th>var5(t-20)</th>\n",
       "      <th>var6(t-20)</th>\n",
       "      <th>var7(t-20)</th>\n",
       "      <th>var8(t-20)</th>\n",
       "      <th>var9(t-20)</th>\n",
       "      <th>var10(t-20)</th>\n",
       "      <th>...</th>\n",
       "      <th>var40(t)</th>\n",
       "      <th>var41(t)</th>\n",
       "      <th>var42(t)</th>\n",
       "      <th>var43(t)</th>\n",
       "      <th>var44(t)</th>\n",
       "      <th>var45(t)</th>\n",
       "      <th>var46(t)</th>\n",
       "      <th>var47(t)</th>\n",
       "      <th>var48(t)</th>\n",
       "      <th>var49(t)</th>\n",
       "    </tr>\n",
       "  </thead>\n",
       "  <tbody>\n",
       "    <tr>\n",
       "      <th>20</th>\n",
       "      <td>0.043100</td>\n",
       "      <td>0.064143</td>\n",
       "      <td>0.072355</td>\n",
       "      <td>0.089752</td>\n",
       "      <td>0.114126</td>\n",
       "      <td>0.159375</td>\n",
       "      <td>0.194680</td>\n",
       "      <td>0.210459</td>\n",
       "      <td>0.243281</td>\n",
       "      <td>0.852146</td>\n",
       "      <td>...</td>\n",
       "      <td>0.865672</td>\n",
       "      <td>0.929329</td>\n",
       "      <td>0.810496</td>\n",
       "      <td>0.842857</td>\n",
       "      <td>0.680147</td>\n",
       "      <td>0.516129</td>\n",
       "      <td>0.223754</td>\n",
       "      <td>0.556540</td>\n",
       "      <td>0.101462</td>\n",
       "      <td>0.175826</td>\n",
       "    </tr>\n",
       "    <tr>\n",
       "      <th>21</th>\n",
       "      <td>0.075323</td>\n",
       "      <td>0.088048</td>\n",
       "      <td>0.093313</td>\n",
       "      <td>0.110121</td>\n",
       "      <td>0.133280</td>\n",
       "      <td>0.180208</td>\n",
       "      <td>0.216445</td>\n",
       "      <td>0.230867</td>\n",
       "      <td>0.260255</td>\n",
       "      <td>0.812628</td>\n",
       "      <td>...</td>\n",
       "      <td>0.885572</td>\n",
       "      <td>0.908127</td>\n",
       "      <td>0.793003</td>\n",
       "      <td>0.771429</td>\n",
       "      <td>0.643382</td>\n",
       "      <td>0.516129</td>\n",
       "      <td>0.189879</td>\n",
       "      <td>0.549745</td>\n",
       "      <td>0.120760</td>\n",
       "      <td>0.093733</td>\n",
       "    </tr>\n",
       "    <tr>\n",
       "      <th>22</th>\n",
       "      <td>0.082665</td>\n",
       "      <td>0.089641</td>\n",
       "      <td>0.096307</td>\n",
       "      <td>0.115213</td>\n",
       "      <td>0.138069</td>\n",
       "      <td>0.186458</td>\n",
       "      <td>0.226119</td>\n",
       "      <td>0.238520</td>\n",
       "      <td>0.271570</td>\n",
       "      <td>0.792641</td>\n",
       "      <td>...</td>\n",
       "      <td>0.875622</td>\n",
       "      <td>0.922261</td>\n",
       "      <td>0.798834</td>\n",
       "      <td>0.814286</td>\n",
       "      <td>0.658088</td>\n",
       "      <td>0.506912</td>\n",
       "      <td>0.220942</td>\n",
       "      <td>0.558953</td>\n",
       "      <td>0.107602</td>\n",
       "      <td>0.104255</td>\n",
       "    </tr>\n",
       "    <tr>\n",
       "      <th>23</th>\n",
       "      <td>0.068389</td>\n",
       "      <td>0.079283</td>\n",
       "      <td>0.087325</td>\n",
       "      <td>0.107575</td>\n",
       "      <td>0.128492</td>\n",
       "      <td>0.176042</td>\n",
       "      <td>0.209190</td>\n",
       "      <td>0.225765</td>\n",
       "      <td>0.254597</td>\n",
       "      <td>0.810811</td>\n",
       "      <td>...</td>\n",
       "      <td>0.885572</td>\n",
       "      <td>0.915194</td>\n",
       "      <td>0.787172</td>\n",
       "      <td>0.785714</td>\n",
       "      <td>0.636029</td>\n",
       "      <td>0.497696</td>\n",
       "      <td>0.205856</td>\n",
       "      <td>0.551567</td>\n",
       "      <td>0.090643</td>\n",
       "      <td>0.052036</td>\n",
       "    </tr>\n",
       "    <tr>\n",
       "      <th>24</th>\n",
       "      <td>0.133922</td>\n",
       "      <td>0.123904</td>\n",
       "      <td>0.123254</td>\n",
       "      <td>0.135582</td>\n",
       "      <td>0.158819</td>\n",
       "      <td>0.201042</td>\n",
       "      <td>0.230955</td>\n",
       "      <td>0.241071</td>\n",
       "      <td>0.265912</td>\n",
       "      <td>0.719055</td>\n",
       "      <td>...</td>\n",
       "      <td>0.865672</td>\n",
       "      <td>0.915194</td>\n",
       "      <td>0.798834</td>\n",
       "      <td>0.814286</td>\n",
       "      <td>0.665441</td>\n",
       "      <td>0.516129</td>\n",
       "      <td>0.185833</td>\n",
       "      <td>0.547381</td>\n",
       "      <td>0.086550</td>\n",
       "      <td>0.103159</td>\n",
       "    </tr>\n",
       "    <tr>\n",
       "      <th>...</th>\n",
       "      <td>...</td>\n",
       "      <td>...</td>\n",
       "      <td>...</td>\n",
       "      <td>...</td>\n",
       "      <td>...</td>\n",
       "      <td>...</td>\n",
       "      <td>...</td>\n",
       "      <td>...</td>\n",
       "      <td>...</td>\n",
       "      <td>...</td>\n",
       "      <td>...</td>\n",
       "      <td>...</td>\n",
       "      <td>...</td>\n",
       "      <td>...</td>\n",
       "      <td>...</td>\n",
       "      <td>...</td>\n",
       "      <td>...</td>\n",
       "      <td>...</td>\n",
       "      <td>...</td>\n",
       "      <td>...</td>\n",
       "      <td>...</td>\n",
       "    </tr>\n",
       "    <tr>\n",
       "      <th>1934</th>\n",
       "      <td>0.234398</td>\n",
       "      <td>0.340239</td>\n",
       "      <td>0.431138</td>\n",
       "      <td>0.486314</td>\n",
       "      <td>0.553871</td>\n",
       "      <td>0.673958</td>\n",
       "      <td>0.740024</td>\n",
       "      <td>0.723214</td>\n",
       "      <td>0.759547</td>\n",
       "      <td>1.000000</td>\n",
       "      <td>...</td>\n",
       "      <td>0.751244</td>\n",
       "      <td>0.724382</td>\n",
       "      <td>0.548105</td>\n",
       "      <td>0.592857</td>\n",
       "      <td>0.433824</td>\n",
       "      <td>0.368664</td>\n",
       "      <td>0.392100</td>\n",
       "      <td>0.840326</td>\n",
       "      <td>0.391184</td>\n",
       "      <td>0.033097</td>\n",
       "    </tr>\n",
       "    <tr>\n",
       "      <th>1935</th>\n",
       "      <td>0.231815</td>\n",
       "      <td>0.333865</td>\n",
       "      <td>0.432136</td>\n",
       "      <td>0.476766</td>\n",
       "      <td>0.541101</td>\n",
       "      <td>0.662500</td>\n",
       "      <td>0.730351</td>\n",
       "      <td>0.709184</td>\n",
       "      <td>0.743989</td>\n",
       "      <td>0.990461</td>\n",
       "      <td>...</td>\n",
       "      <td>0.716418</td>\n",
       "      <td>0.692580</td>\n",
       "      <td>0.510204</td>\n",
       "      <td>0.578571</td>\n",
       "      <td>0.411765</td>\n",
       "      <td>0.350230</td>\n",
       "      <td>0.489063</td>\n",
       "      <td>0.841360</td>\n",
       "      <td>0.394854</td>\n",
       "      <td>0.084375</td>\n",
       "    </tr>\n",
       "    <tr>\n",
       "      <th>1936</th>\n",
       "      <td>0.232903</td>\n",
       "      <td>0.317131</td>\n",
       "      <td>0.414172</td>\n",
       "      <td>0.464672</td>\n",
       "      <td>0.531524</td>\n",
       "      <td>0.651042</td>\n",
       "      <td>0.711004</td>\n",
       "      <td>0.691327</td>\n",
       "      <td>0.721358</td>\n",
       "      <td>0.939132</td>\n",
       "      <td>...</td>\n",
       "      <td>0.726368</td>\n",
       "      <td>0.696113</td>\n",
       "      <td>0.495627</td>\n",
       "      <td>0.571429</td>\n",
       "      <td>0.386029</td>\n",
       "      <td>0.322581</td>\n",
       "      <td>0.504423</td>\n",
       "      <td>0.843527</td>\n",
       "      <td>0.383948</td>\n",
       "      <td>0.073651</td>\n",
       "    </tr>\n",
       "    <tr>\n",
       "      <th>1937</th>\n",
       "      <td>0.234262</td>\n",
       "      <td>0.326693</td>\n",
       "      <td>0.430140</td>\n",
       "      <td>0.476130</td>\n",
       "      <td>0.539505</td>\n",
       "      <td>0.663542</td>\n",
       "      <td>0.725514</td>\n",
       "      <td>0.706633</td>\n",
       "      <td>0.728430</td>\n",
       "      <td>0.961844</td>\n",
       "      <td>...</td>\n",
       "      <td>0.676617</td>\n",
       "      <td>0.621908</td>\n",
       "      <td>0.440233</td>\n",
       "      <td>0.492857</td>\n",
       "      <td>0.352941</td>\n",
       "      <td>0.331797</td>\n",
       "      <td>0.618871</td>\n",
       "      <td>0.817329</td>\n",
       "      <td>0.377866</td>\n",
       "      <td>0.153699</td>\n",
       "    </tr>\n",
       "    <tr>\n",
       "      <th>1938</th>\n",
       "      <td>0.238749</td>\n",
       "      <td>0.331474</td>\n",
       "      <td>0.422156</td>\n",
       "      <td>0.479949</td>\n",
       "      <td>0.548284</td>\n",
       "      <td>0.675000</td>\n",
       "      <td>0.735188</td>\n",
       "      <td>0.716837</td>\n",
       "      <td>0.742574</td>\n",
       "      <td>0.960482</td>\n",
       "      <td>...</td>\n",
       "      <td>0.706468</td>\n",
       "      <td>0.664311</td>\n",
       "      <td>0.475219</td>\n",
       "      <td>0.535714</td>\n",
       "      <td>0.375000</td>\n",
       "      <td>0.331797</td>\n",
       "      <td>0.590276</td>\n",
       "      <td>0.805954</td>\n",
       "      <td>0.386842</td>\n",
       "      <td>0.102706</td>\n",
       "    </tr>\n",
       "  </tbody>\n",
       "</table>\n",
       "<p>1919 rows × 1029 columns</p>\n",
       "</div>"
      ],
      "text/plain": [
       "      var1(t-20)  var2(t-20)  var3(t-20)  var4(t-20)  var5(t-20)  var6(t-20)  \\\n",
       "20      0.043100    0.064143    0.072355    0.089752    0.114126    0.159375   \n",
       "21      0.075323    0.088048    0.093313    0.110121    0.133280    0.180208   \n",
       "22      0.082665    0.089641    0.096307    0.115213    0.138069    0.186458   \n",
       "23      0.068389    0.079283    0.087325    0.107575    0.128492    0.176042   \n",
       "24      0.133922    0.123904    0.123254    0.135582    0.158819    0.201042   \n",
       "...          ...         ...         ...         ...         ...         ...   \n",
       "1934    0.234398    0.340239    0.431138    0.486314    0.553871    0.673958   \n",
       "1935    0.231815    0.333865    0.432136    0.476766    0.541101    0.662500   \n",
       "1936    0.232903    0.317131    0.414172    0.464672    0.531524    0.651042   \n",
       "1937    0.234262    0.326693    0.430140    0.476130    0.539505    0.663542   \n",
       "1938    0.238749    0.331474    0.422156    0.479949    0.548284    0.675000   \n",
       "\n",
       "      var7(t-20)  var8(t-20)  var9(t-20)  var10(t-20)  ...  var40(t)  \\\n",
       "20      0.194680    0.210459    0.243281     0.852146  ...  0.865672   \n",
       "21      0.216445    0.230867    0.260255     0.812628  ...  0.885572   \n",
       "22      0.226119    0.238520    0.271570     0.792641  ...  0.875622   \n",
       "23      0.209190    0.225765    0.254597     0.810811  ...  0.885572   \n",
       "24      0.230955    0.241071    0.265912     0.719055  ...  0.865672   \n",
       "...          ...         ...         ...          ...  ...       ...   \n",
       "1934    0.740024    0.723214    0.759547     1.000000  ...  0.751244   \n",
       "1935    0.730351    0.709184    0.743989     0.990461  ...  0.716418   \n",
       "1936    0.711004    0.691327    0.721358     0.939132  ...  0.726368   \n",
       "1937    0.725514    0.706633    0.728430     0.961844  ...  0.676617   \n",
       "1938    0.735188    0.716837    0.742574     0.960482  ...  0.706468   \n",
       "\n",
       "      var41(t)  var42(t)  var43(t)  var44(t)  var45(t)  var46(t)  var47(t)  \\\n",
       "20    0.929329  0.810496  0.842857  0.680147  0.516129  0.223754  0.556540   \n",
       "21    0.908127  0.793003  0.771429  0.643382  0.516129  0.189879  0.549745   \n",
       "22    0.922261  0.798834  0.814286  0.658088  0.506912  0.220942  0.558953   \n",
       "23    0.915194  0.787172  0.785714  0.636029  0.497696  0.205856  0.551567   \n",
       "24    0.915194  0.798834  0.814286  0.665441  0.516129  0.185833  0.547381   \n",
       "...        ...       ...       ...       ...       ...       ...       ...   \n",
       "1934  0.724382  0.548105  0.592857  0.433824  0.368664  0.392100  0.840326   \n",
       "1935  0.692580  0.510204  0.578571  0.411765  0.350230  0.489063  0.841360   \n",
       "1936  0.696113  0.495627  0.571429  0.386029  0.322581  0.504423  0.843527   \n",
       "1937  0.621908  0.440233  0.492857  0.352941  0.331797  0.618871  0.817329   \n",
       "1938  0.664311  0.475219  0.535714  0.375000  0.331797  0.590276  0.805954   \n",
       "\n",
       "      var48(t)  var49(t)  \n",
       "20    0.101462  0.175826  \n",
       "21    0.120760  0.093733  \n",
       "22    0.107602  0.104255  \n",
       "23    0.090643  0.052036  \n",
       "24    0.086550  0.103159  \n",
       "...        ...       ...  \n",
       "1934  0.391184  0.033097  \n",
       "1935  0.394854  0.084375  \n",
       "1936  0.383948  0.073651  \n",
       "1937  0.377866  0.153699  \n",
       "1938  0.386842  0.102706  \n",
       "\n",
       "[1919 rows x 1029 columns]"
      ]
     },
     "execution_count": 35,
     "metadata": {},
     "output_type": "execute_result"
    }
   ],
   "source": [
    "reframe_f_arima"
   ]
  },
  {
   "cell_type": "code",
   "execution_count": 3,
   "metadata": {},
   "outputs": [
    {
     "data": {
      "text/plain": [
       "array([[12.31, 14.68, 15.22, ..., 11.3 , 11.3 , 13.36],\n",
       "       [14.68, 15.22, 14.17, ..., 11.3 , 13.36, 14.39],\n",
       "       [15.22, 14.17, 18.99, ..., 13.36, 14.39, 12.67],\n",
       "       ...,\n",
       "       [26.37, 26.7 , 27.63, ..., 27.55, 32.46, 33.35],\n",
       "       [26.7 , 27.63, 27.96, ..., 32.46, 33.35, 40.28],\n",
       "       [27.63, 27.96, 29.48, ..., 33.35, 40.28, 37.59]])"
      ]
     },
     "execution_count": 3,
     "metadata": {},
     "output_type": "execute_result"
    }
   ],
   "source": [
    "# # random seed\n",
    "# np.random.seed(1111)\n",
    "\n",
    "# # load the data\n",
    "# path_to_dataset = 'convertcsv.csv'\n",
    "# sequence_length = 20\n",
    "\n",
    "# # vector to store the time series\n",
    "# vector_vix = []\n",
    "# with open(path_to_dataset) as f:\n",
    "#     next(f) # skip the header row\n",
    "#     for line in f:\n",
    "#         fields = line.split(',')\n",
    "#         vector_vix.append(float(fields[52]))\n",
    "\n",
    "# # convert the vector to a 2D matrix\n",
    "# matrix_vix = convertSeriesToMatrix(vector_vix, sequence_length)\n",
    "# matrix_vix = np.array(matrix_vix)\n",
    "\n",
    "# matrix_vix"
   ]
  },
  {
   "cell_type": "code",
   "execution_count": 42,
   "metadata": {},
   "outputs": [],
   "source": [
    "# #remove this 2 !!!!!!!!!!!!!\n",
    "# #shifted_value = matrix_vix.mean()\n",
    "# #matrix_vix -= shifted_value\n",
    "\n",
    "# train_row = int(round(0.85 * matrix_vix.shape[0]))\n",
    "# train_set = matrix_vix[:train_row, :]\n",
    "\n",
    "# # shuffle the training set (but do not shuffle the test set)\n",
    "# #np.random.shuffle(train_set)\n",
    "\n",
    "# # the training set\n",
    "# X_train = train_set[:, :-1]\n",
    "# # the last column is the true value to compute the mean-squared-error loss\n",
    "# Y_train = train_set[:, -1]\n",
    "# # the test set\n",
    "# X_test = matrix_vix[train_row:, :-1]\n",
    "# Y_test = matrix_vix[train_row:, -1]\n",
    "\n",
    "# # the input to LSTM layer needs to have the shape of (number of samples, the dimension of each element)\n",
    "# X_train = np.reshape(X_train, (X_train.shape[0], X_train.shape[1], 1))\n",
    "# X_test = np.reshape(X_test, (X_test.shape[0], X_test.shape[1], 1))"
   ]
  },
  {
   "cell_type": "code",
   "execution_count": 49,
   "metadata": {},
   "outputs": [
    {
     "name": "stdout",
     "output_type": "stream",
     "text": [
      "TimeSeriesSplit(max_train_size=None, n_splits=4)\n",
      "TRAIN: [0 1 2 3 4] TEST: [5]\n",
      "TRAIN: [0 1 2 3 4 5] TEST: [6]\n",
      "TRAIN: [0 1 2 3 4 5 6] TEST: [7]\n",
      "TRAIN: [0 1 2 3 4 5 6 7] TEST: [8]\n"
     ]
    }
   ],
   "source": []
  },
  {
   "cell_type": "code",
   "execution_count": 20,
   "metadata": {},
   "outputs": [
    {
     "name": "stdout",
     "output_type": "stream",
     "text": [
      "Model: \"sequential_2\"\n",
      "_________________________________________________________________\n",
      "Layer (type)                 Output Shape              Param #   \n",
      "=================================================================\n",
      "lstm_3 (LSTM)                (None, 20, 128)           91136     \n",
      "_________________________________________________________________\n",
      "dropout_3 (Dropout)          (None, 20, 128)           0         \n",
      "_________________________________________________________________\n",
      "lstm_4 (LSTM)                (None, 256)               394240    \n",
      "_________________________________________________________________\n",
      "dropout_4 (Dropout)          (None, 256)               0         \n",
      "_________________________________________________________________\n",
      "dense_2 (Dense)              (None, 1)                 257       \n",
      "_________________________________________________________________\n",
      "activation_2 (Activation)    (None, 1)                 0         \n",
      "=================================================================\n",
      "Total params: 485,633\n",
      "Trainable params: 485,633\n",
      "Non-trainable params: 0\n",
      "_________________________________________________________________\n",
      "None\n",
      "Train on 1727 samples, validate on 192 samples\n",
      "Epoch 1/50\n",
      " - 3s - loss: 0.0322 - val_loss: 0.0062\n",
      "Epoch 2/50\n",
      " - 2s - loss: 0.0081 - val_loss: 0.0034\n",
      "Epoch 3/50\n",
      " - 2s - loss: 0.0047 - val_loss: 0.0027\n",
      "Epoch 4/50\n",
      " - 3s - loss: 0.0034 - val_loss: 0.0018\n",
      "Epoch 5/50\n",
      " - 3s - loss: 0.0026 - val_loss: 0.0017\n",
      "Epoch 6/50\n",
      " - 3s - loss: 0.0022 - val_loss: 0.0011\n",
      "Epoch 7/50\n",
      " - 3s - loss: 0.0017 - val_loss: 0.0012\n",
      "Epoch 8/50\n",
      " - 3s - loss: 0.0017 - val_loss: 0.0012\n",
      "Epoch 9/50\n",
      " - 3s - loss: 0.0017 - val_loss: 0.0010\n",
      "Epoch 10/50\n",
      " - 3s - loss: 0.0016 - val_loss: 0.0013\n",
      "Epoch 11/50\n",
      " - 2s - loss: 0.0017 - val_loss: 0.0011\n",
      "Epoch 12/50\n",
      " - 3s - loss: 0.0015 - val_loss: 9.7529e-04\n",
      "Epoch 13/50\n",
      " - 2s - loss: 0.0015 - val_loss: 0.0012\n",
      "Epoch 14/50\n",
      " - 3s - loss: 0.0016 - val_loss: 0.0011\n",
      "Epoch 15/50\n",
      " - 2s - loss: 0.0015 - val_loss: 9.5710e-04\n",
      "Epoch 16/50\n",
      " - 3s - loss: 0.0016 - val_loss: 8.8894e-04\n",
      "Epoch 17/50\n",
      " - 3s - loss: 0.0015 - val_loss: 0.0013\n",
      "Epoch 18/50\n",
      " - 2s - loss: 0.0015 - val_loss: 0.0011\n",
      "Epoch 19/50\n",
      " - 3s - loss: 0.0014 - val_loss: 9.4741e-04\n",
      "Epoch 20/50\n",
      " - 3s - loss: 0.0014 - val_loss: 0.0010\n",
      "Epoch 21/50\n",
      " - 3s - loss: 0.0013 - val_loss: 8.2644e-04\n",
      "Epoch 22/50\n",
      " - 3s - loss: 0.0013 - val_loss: 8.8907e-04\n",
      "Epoch 23/50\n",
      " - 3s - loss: 0.0013 - val_loss: 9.4216e-04\n",
      "Epoch 24/50\n",
      " - 3s - loss: 0.0012 - val_loss: 8.0028e-04\n",
      "Epoch 25/50\n",
      " - 3s - loss: 0.0012 - val_loss: 7.6203e-04\n",
      "Epoch 26/50\n",
      " - 3s - loss: 0.0011 - val_loss: 7.3088e-04\n",
      "Epoch 27/50\n",
      " - 3s - loss: 0.0011 - val_loss: 7.1487e-04\n",
      "Epoch 28/50\n",
      " - 3s - loss: 0.0011 - val_loss: 6.7929e-04\n",
      "Epoch 29/50\n",
      " - 3s - loss: 0.0011 - val_loss: 7.7966e-04\n",
      "Epoch 30/50\n",
      " - 3s - loss: 0.0010 - val_loss: 7.0925e-04\n",
      "Epoch 31/50\n",
      " - 3s - loss: 0.0011 - val_loss: 6.9741e-04\n",
      "Epoch 32/50\n",
      " - 3s - loss: 0.0010 - val_loss: 6.4106e-04\n",
      "Epoch 33/50\n",
      " - 3s - loss: 0.0010 - val_loss: 6.7043e-04\n",
      "Epoch 34/50\n",
      " - 3s - loss: 0.0011 - val_loss: 7.0525e-04\n",
      "Epoch 35/50\n",
      " - 3s - loss: 0.0011 - val_loss: 7.5658e-04\n",
      "Epoch 36/50\n",
      " - 3s - loss: 0.0010 - val_loss: 7.8911e-04\n",
      "Epoch 37/50\n",
      " - 3s - loss: 0.0011 - val_loss: 7.1109e-04\n",
      "Epoch 38/50\n",
      " - 3s - loss: 0.0011 - val_loss: 9.1282e-04\n",
      "Epoch 39/50\n",
      " - 3s - loss: 0.0010 - val_loss: 5.7670e-04\n",
      "Epoch 40/50\n",
      " - 3s - loss: 9.5400e-04 - val_loss: 6.2408e-04\n",
      "Epoch 41/50\n",
      " - 3s - loss: 8.9817e-04 - val_loss: 8.6555e-04\n",
      "Epoch 42/50\n",
      " - 3s - loss: 0.0010 - val_loss: 6.5876e-04\n",
      "Epoch 43/50\n",
      " - 3s - loss: 9.1481e-04 - val_loss: 5.9818e-04\n",
      "Epoch 44/50\n",
      " - 3s - loss: 9.6365e-04 - val_loss: 6.1527e-04\n",
      "Epoch 45/50\n",
      " - 3s - loss: 8.9650e-04 - val_loss: 5.9427e-04\n",
      "Epoch 46/50\n",
      " - 3s - loss: 8.9500e-04 - val_loss: 6.9260e-04\n",
      "Epoch 47/50\n",
      " - 3s - loss: 9.0402e-04 - val_loss: 5.8999e-04\n",
      "Epoch 48/50\n",
      " - 3s - loss: 8.5179e-04 - val_loss: 5.7125e-04\n",
      "Epoch 49/50\n",
      " - 3s - loss: 9.3335e-04 - val_loss: 5.6616e-04\n",
      "Epoch 50/50\n",
      " - 3s - loss: 8.6789e-04 - val_loss: 5.4868e-04\n",
      "192/192 [==============================] - 0s 914us/step\n",
      "\n",
      "The mean squared error (MSE) on the test data set is 0.001 over 192 test samples.\n"
     ]
    }
   ],
   "source": [
    "# build the model\n",
    "model = Sequential()\n",
    "# layer 1: LSTM\n",
    "model.add(LSTM(128, input_shape=(train_X.shape[1], train_X.shape[2]), return_sequences=True))\n",
    "model.add(Dropout(0.2))\n",
    "# layer 2: LSTM\n",
    "model.add(LSTM(256, return_sequences=False))\n",
    "model.add(Dropout(0.2))\n",
    "# layer 3: dense\n",
    "# linear activation: a(x) = x\n",
    "model.add(Dense(units=1))\n",
    "model.add(Activation('sigmoid'))\n",
    "# compile the model\n",
    "model.compile(loss=\"mse\", optimizer=\"adam\")\n",
    "print(model.summary())\n",
    "\n",
    "history = model.fit(train_X, train_y, epochs=50, batch_size=128, validation_data=(test_X, test_y), verbose=2)\n",
    "# evaluate the result\n",
    "test_mse = model.evaluate(test_X, test_y, verbose=1)\n",
    "print ('\\nThe mean squared error (MSE) on the test data set is %.3f over %d test samples.' % (test_mse, len(test_y)))\n"
   ]
  },
  {
   "cell_type": "code",
   "execution_count": 21,
   "metadata": {},
   "outputs": [
    {
     "data": {
      "image/png": "[encoded data removed]",
      "text/plain": [
       "<Figure size 432x288 with 1 Axes>"
      ]
     },
     "metadata": {
      "needs_background": "light"
     },
     "output_type": "display_data"
    }
   ],
   "source": [
    "\n",
    "\n",
    "\n",
    "# # build the model\n",
    "# model = Sequential()\n",
    "# # layer 1: LSTM\n",
    "# model.add(LSTM(units=100, input_shape=(19, 1), return_sequences=True))\n",
    "# model.add(Dropout(0.2))\n",
    "# # layer 2: LSTM\n",
    "# model.add(LSTM(100, return_sequences=False))\n",
    "# model.add(Dropout(0.2))\n",
    "# # layer 3: dense\n",
    "# # linear activation: a(x) = x\n",
    "# model.add(Dense(units=1))\n",
    "# model.add(Activation('linear'))\n",
    "# # compile the model\n",
    "# model.compile(loss=\"mse\", optimizer=\"rmsprop\")\n",
    "# print(model.summary())\n",
    "\n",
    "\n",
    "# # train the model\n",
    "# model.fit(X_train, Y_train, batch_size=512, epochs=50, validation_split=0.05, verbose=1)\n",
    "\n",
    "\n",
    "# # evaluate the result\n",
    "# test_mse = model.evaluate(X_test, Y_test, verbose=1)\n",
    "# print ('\\nThe mean squared error (MSE) on the test data set is %.3f over %d test samples.' % (test_mse, len(Y_test)))\n",
    "\n",
    "# get the predicted values\n",
    "predicted_values = model.predict(test_X)\n",
    "num_test_samples = len(predicted_values)\n",
    "predicted_values = np.reshape(predicted_values, (num_test_samples,1))\n",
    "test_y = test_y.reshape(test_y.shape[0],1)\n",
    "\n",
    "\n",
    "\n",
    "# plot the results (LSTM ONLY)\n",
    "fig = plt.figure()\n",
    "plt.plot(test_y, label='real VIX')\n",
    "plt.plot(model.predict(test_X), label='predicted VIX')\n",
    "plt.xlabel('Date')\n",
    "plt.ylabel('VIX')\n",
    "plt.legend()\n",
    "plt.show()\n",
    "fig.savefig('output_prediction.jpg', bbox_inches='tight')\n",
    "\n",
    "# save the result into txt file\n",
    "#test_result = list(zip(predicted_values, Y_test)) + shifted_value\n",
    "#np.savetxt('output_result.txt', test_result)\n",
    "\n"
   ]
  },
  {
   "cell_type": "code",
   "execution_count": 22,
   "metadata": {},
   "outputs": [
    {
     "data": {
      "image/png": "[encoded data removed]",
      "text/plain": [
       "<Figure size 432x288 with 1 Axes>"
      ]
     },
     "metadata": {
      "needs_background": "light"
     },
     "output_type": "display_data"
    }
   ],
   "source": [
    "\n",
    "\n",
    "predicted_values_f_arima = model.predict(test_X_f_arima)\n",
    "num_test_samples = len(predicted_values_f_arima)\n",
    "predicted_values_f_arima = np.reshape(predicted_values, (num_test_samples,1))\n",
    "test_y_f_arima = test_y_f_arima.reshape(test_y_f_arima.shape[0],1)\n",
    "\n",
    "\n",
    "\n",
    "# plot the results (LSTM ONLY)\n",
    "fig = plt.figure()\n",
    "plt.plot(test_y_f_arima, label='real VIX')\n",
    "plt.plot(model.predict(test_X_f_arima), label='predicted VIX')\n",
    "plt.xlabel('Date')\n",
    "plt.ylabel('VIX')\n",
    "plt.legend()\n",
    "plt.show()\n",
    "fig.savefig('output_prediction.jpg', bbox_inches='tight')"
   ]
  },
  {
   "cell_type": "code",
   "execution_count": 23,
   "metadata": {},
   "outputs": [
    {
     "data": {
      "text/plain": [
       "[<matplotlib.lines.Line2D at 0x14054128e48>]"
      ]
     },
     "execution_count": 23,
     "metadata": {},
     "output_type": "execute_result"
    },
    {
     "data": {
      "image/png": "[encoded data removed]",
      "text/plain": [
       "<Figure size 432x288 with 1 Axes>"
      ]
     },
     "metadata": {
      "needs_background": "light"
     },
     "output_type": "display_data"
    }
   ],
   "source": [
    "all_data = values_f_arima[:, :]\n",
    "# split into input and outputs\n",
    "obs = days * features\n",
    "all_X, all_y = all_data[:, :obs], all_data[:, -features]\n",
    "\n",
    "# reshape input to be 3D [samples, timesteps, features]\n",
    "all_X = all_X.reshape((all_X.shape[0], days, features))\n",
    "all_y = all_y.reshape((all_y.shape[0], 1))\n",
    "\n",
    "pred_y = model.predict(all_X)\n",
    "\n",
    "plt.plot(pred_y, color='orange')\n",
    "plt.plot(all_y, color='blue')"
   ]
  },
  {
   "cell_type": "code",
   "execution_count": 24,
   "metadata": {},
   "outputs": [],
   "source": [
    "divi_for_training = all_y - pred_y"
   ]
  },
  {
   "cell_type": "code",
   "execution_count": 25,
   "metadata": {},
   "outputs": [
    {
     "data": {
      "text/plain": [
       "array([0.30901417], dtype=float32)"
      ]
     },
     "execution_count": 25,
     "metadata": {},
     "output_type": "execute_result"
    }
   ],
   "source": [
    "max(divi_for_training)"
   ]
  },
  {
   "cell_type": "code",
   "execution_count": 36,
   "metadata": {},
   "outputs": [],
   "source": [
    "# dynamic arima trainig\n",
    "\n",
    "def evaluate_arima_model(residual):\n",
    "    # prepare training dataset\n",
    "    train_size = int(len(residual) * 0.9)\n",
    "    train = residual[0:train_size]\n",
    "    test = residual[train_size:]\n",
    "    \n",
    "    history = [x for x in train]\n",
    "    # make predictions\n",
    "    predictions = list()\n",
    "    \n",
    "    for t in range(len(test)):\n",
    "        \n",
    "        model = ARIMA(history, order=(1,1,0))\n",
    "        model_fit = model.fit()\n",
    "        yhat = model_fit.forecast()[0]\n",
    "        predictions.append(yhat)\n",
    "        history.append(test[t])\n",
    "        \n",
    "    plt.plot(predictions, color='orange')\n",
    "    plt.plot(history[train_size:], color='blue')\n",
    "    # calculate out of sample error\n",
    "    error = mean_squared_error(test, predictions)\n",
    "    print(error)\n",
    "    return predictions"
   ]
  },
  {
   "cell_type": "code",
   "execution_count": 37,
   "metadata": {},
   "outputs": [
    {
     "name": "stderr",
     "output_type": "stream",
     "text": [
      "C:\\Users\\gleny\\anaconda3\\lib\\site-packages\\statsmodels\\base\\model.py:568: ConvergenceWarning: Maximum Likelihood optimization failed to converge. Check mle_retvals\n",
      "  \"Check mle_retvals\", ConvergenceWarning)\n",
      "C:\\Users\\gleny\\anaconda3\\lib\\site-packages\\statsmodels\\base\\model.py:568: ConvergenceWarning: Maximum Likelihood optimization failed to converge. Check mle_retvals\n",
      "  \"Check mle_retvals\", ConvergenceWarning)\n"
     ]
    },
    {
     "name": "stdout",
     "output_type": "stream",
     "text": [
      "0.002779370898431587\n"
     ]
    },
    {
     "data": {
      "text/plain": [
       "192"
      ]
     },
     "execution_count": 37,
     "metadata": {},
     "output_type": "execute_result"
    },
    {
     "data": {
      "image/png": "[encoded data removed]",
      "text/plain": [
       "<Figure size 432x288 with 1 Axes>"
      ]
     },
     "metadata": {
      "needs_background": "light"
     },
     "output_type": "display_data"
    }
   ],
   "source": [
    "arima_residual = evaluate_arima_model(divi_for_training)\n",
    "len(arima_residual)"
   ]
  },
  {
   "cell_type": "code",
   "execution_count": 38,
   "metadata": {},
   "outputs": [
    {
     "data": {
      "text/plain": [
       "[<matplotlib.lines.Line2D at 0x1404ea1ef48>]"
      ]
     },
     "execution_count": 38,
     "metadata": {},
     "output_type": "execute_result"
    },
    {
     "data": {
      "image/png": "[encoded data removed]",
      "text/plain": [
       "<Figure size 432x288 with 1 Axes>"
      ]
     },
     "metadata": {
      "needs_background": "light"
     },
     "output_type": "display_data"
    }
   ],
   "source": [
    "plt.plot(arima_residual+model.predict(test_X_f_arima), color='orange')\n",
    "plt.plot(test_y_f_arima)"
   ]
  },
  {
   "cell_type": "code",
   "execution_count": 39,
   "metadata": {},
   "outputs": [
    {
     "name": "stdout",
     "output_type": "stream",
     "text": [
      "without arima MSE:  0.07917218\n",
      "with arima mse 0.0696469152139119\n"
     ]
    }
   ],
   "source": [
    "print(\"without arima MSE: \",mean_squared_error(test_y_f_arima,predicted_values_f_arima))\n",
    "print(\"with arima mse\", mean_squared_error(test_y_f_arima,arima_residual+predicted_values_f_arima))"
   ]
  },
  {
   "cell_type": "code",
   "execution_count": 30,
   "metadata": {},
   "outputs": [],
   "source": [
    "model.save(\"Final_LSTM\")"
   ]
  },
  {
   "cell_type": "code",
   "execution_count": null,
   "metadata": {},
   "outputs": [],
   "source": [
    "X = np.array([[1, 2], [3, 4], [1, 2], [3, 4], [1, 2], [3, 4], [6,6], [7,7], [8,8]])\n",
    "y = np.array([1, 2, 3, 4, 5, 6, 7, 8, 9])\n",
    "tscv = TimeSeriesSplit(max_train_size=None, n_splits=4)\n",
    "print(tscv)\n",
    "for train_index, test_index in tscv.split(matrix_vix):\n",
    "    print(\"TRAIN:\", train_index, \"TEST:\", test_index) \n",
    "    X_train, X_test = matrix_vix[train_index], X[test_index]\n",
    "    y_train, y_test = y[train_index], y[test_index]"
   ]
  }
 ],
 "metadata": {
  "kernelspec": {
   "display_name": "Python 3",
   "language": "python",
   "name": "python3"
  },
  "language_info": {
   "codemirror_mode": {
    "name": "ipython",
    "version": 3
   },
   "file_extension": ".py",
   "mimetype": "text/x-python",
   "name": "python",
   "nbconvert_exporter": "python",
   "pygments_lexer": "ipython3",
   "version": "3.8.3"
  }
 },
 "nbformat": 4,
 "nbformat_minor": 4
}
